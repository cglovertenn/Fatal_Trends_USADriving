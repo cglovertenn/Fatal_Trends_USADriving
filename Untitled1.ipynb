{
 "cells": [
  {
   "cell_type": "code",
   "execution_count": 8,
   "metadata": {},
   "outputs": [
    {
     "name": "stdout",
     "output_type": "stream",
     "text": [
      "  1     1     1       1\n",
      "  2     2     2      10\n",
      "  3     3     3      11\n",
      "  4     4     4     100\n",
      "  5     5     5     101\n",
      "  6     6     6     110\n",
      "  7     7     7     111\n",
      "  8     10    8    1000\n",
      "  9     11    9    1001\n",
      "  10    12    A    1010\n",
      "  11    13    B    1011\n",
      "  12    14    C    1100\n",
      "  13    15    D    1101\n",
      "  14    16    E    1110\n",
      "  15    17    F    1111\n",
      "  16    20    10  10000\n",
      "  17    21    11  10001\n"
     ]
    }
   ],
   "source": [
    "number = 17\n",
    "\n",
    "for i in range (1, number+1):\n",
    "    num_list = \"\"\n",
    "    num_list += str(i).center(len(str(f\"{number:b}\"))+1)\n",
    "    num_list += str(f\"{i:o}\").center(len(str(f\"{number:b}\"))+1)#.upper()\n",
    "    num_list += str(f\"{i:x}\").center(len(str(f\"{number:b}\"))+1).upper()\n",
    "    num_list += str(f\"{i:b}\").rjust(len(str(f\"{number:b}\")))#.upper()\n",
    "    print(num_list)"
   ]
  },
  {
   "cell_type": "code",
   "execution_count": 7,
   "metadata": {},
   "outputs": [
    {
     "name": "stdout",
     "output_type": "stream",
     "text": [
      "    1     1     1     1\n",
      "    2     2     2    10\n",
      "    3     3     3    11\n",
      "    4     4     4   100\n",
      "    5     5     5   101\n",
      "    6     6     6   110\n",
      "    7     7     7   111\n",
      "    8    10     8  1000\n",
      "    9    11     9  1001\n",
      "   10    12     A  1010\n",
      "   11    13     B  1011\n",
      "   12    14     C  1100\n",
      "   13    15     D  1101\n",
      "   14    16     E  1110\n",
      "   15    17     F  1111\n",
      "   16    20    10 10000\n",
      "   17    21    11 10001\n"
     ]
    }
   ],
   "source": [
    "st=int(17)\n",
    "w=len(bin(st)[2:])\n",
    "for i in range(1,st+1):\n",
    "    print (str(i).rjust(w,' '),\n",
    "    str(oct(i)[2:]).rjust(w,' '),\n",
    "    str(hex(i)[2:].upper()).rjust(w,' '),\n",
    "    str(bin(i)[2:]).rjust(w,' '),sep=' ')"
   ]
  },
  {
   "cell_type": "code",
   "execution_count": null,
   "metadata": {},
   "outputs": [],
   "source": []
  }
 ],
 "metadata": {
  "kernelspec": {
   "display_name": "Python 3",
   "language": "python",
   "name": "python3"
  },
  "language_info": {
   "codemirror_mode": {
    "name": "ipython",
    "version": 3
   },
   "file_extension": ".py",
   "mimetype": "text/x-python",
   "name": "python",
   "nbconvert_exporter": "python",
   "pygments_lexer": "ipython3",
   "version": "3.7.3"
  }
 },
 "nbformat": 4,
 "nbformat_minor": 2
}
